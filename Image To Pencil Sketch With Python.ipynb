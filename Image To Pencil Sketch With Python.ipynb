{
 "cells": [
  {
   "cell_type": "markdown",
   "id": "e9b31729",
   "metadata": {},
   "source": [
    "ORIGINAL IMAGE"
   ]
  },
  {
   "cell_type": "code",
   "execution_count": 10,
   "id": "793aa213",
   "metadata": {},
   "outputs": [],
   "source": [
    "import cv2\n",
    "import matplotlib.pyplot as plt"
   ]
  },
  {
   "cell_type": "code",
   "execution_count": 11,
   "id": "9009bb0c",
   "metadata": {},
   "outputs": [],
   "source": [
    "image = cv2.imread(\"Sky.jpg\")\n",
    "cv2.imshow('Original Image',image)\n",
    "cv2.waitKey(0)\n",
    "cv2.destroyAllWindows()"
   ]
  },
  {
   "cell_type": "markdown",
   "id": "6421d4fa",
   "metadata": {},
   "source": [
    "GRAYSCALE IMAGE"
   ]
  },
  {
   "cell_type": "code",
   "execution_count": 12,
   "id": "4e4b6cd2",
   "metadata": {},
   "outputs": [],
   "source": [
    "grayscale_image=cv2.cvtColor(image, cv2.COLOR_BGR2GRAY)\n",
    "cv2.imshow('Grayscale Image',grayscale_image)\n",
    "cv2.waitKey(0)\n",
    "cv2.destroyAllWindows()"
   ]
  },
  {
   "cell_type": "markdown",
   "id": "a93c44cb",
   "metadata": {},
   "source": [
    "INVERTED IMAGE"
   ]
  },
  {
   "cell_type": "code",
   "execution_count": 13,
   "id": "50fda500",
   "metadata": {},
   "outputs": [],
   "source": [
    "inverted_image=255-grayscale_image\n",
    "cv2.imshow('Inverted Image',inverted_image)\n",
    "cv2.waitKey(0)\n",
    "cv2.destroyAllWindows()"
   ]
  },
  {
   "cell_type": "markdown",
   "id": "f5e611f1",
   "metadata": {},
   "source": [
    "BLUR IMAGE"
   ]
  },
  {
   "cell_type": "code",
   "execution_count": 14,
   "id": "71618f44",
   "metadata": {},
   "outputs": [],
   "source": [
    "blur_image=cv2.GaussianBlur(inverted_image, (21, 21), 0)\n",
    "cv2.imshow('Blur Image',blur_image)\n",
    "cv2.waitKey(0)\n",
    "cv2.destroyAllWindows()"
   ]
  },
  {
   "cell_type": "markdown",
   "id": "5b2a6c00",
   "metadata": {},
   "source": [
    "SKETCH IMAGE"
   ]
  },
  {
   "cell_type": "code",
   "execution_count": 15,
   "id": "2c940caa",
   "metadata": {},
   "outputs": [],
   "source": [
    "inverted_blur_image=255-blur_image\n",
    "sketch_image=cv2.divide(grayscale_image,inverted_blur_image,scale=256.0)\n",
    "cv2.imshow('Sketch Image',sketch_image)\n",
    "cv2.waitKey(0)\n",
    "cv2.destroyAllWindows()"
   ]
  },
  {
   "cell_type": "code",
   "execution_count": null,
   "id": "7ba5bcc7",
   "metadata": {},
   "outputs": [],
   "source": []
  }
 ],
 "metadata": {
  "kernelspec": {
   "display_name": "Python 3 (ipykernel)",
   "language": "python",
   "name": "python3"
  },
  "language_info": {
   "codemirror_mode": {
    "name": "ipython",
    "version": 3
   },
   "file_extension": ".py",
   "mimetype": "text/x-python",
   "name": "python",
   "nbconvert_exporter": "python",
   "pygments_lexer": "ipython3",
   "version": "3.9.12"
  }
 },
 "nbformat": 4,
 "nbformat_minor": 5
}
